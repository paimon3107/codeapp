{
 "cells": [
  {
   "cell_type": "code",
   "execution_count": 275,
   "metadata": {},
   "outputs": [],
   "source": [
    "import os\n",
    "import glob\n",
    "import json\n",
    "import re\n",
    "import requests\n",
    "import os"
   ]
  },
  {
   "cell_type": "code",
   "execution_count": 3,
   "metadata": {},
   "outputs": [],
   "source": [
    "f = open('feed.json')\n",
    " \n",
    "# returns JSON object as \n",
    "# a dictionary\n",
    "data = json.load(f)\n",
    " \n",
    "# Iterating through the json\n",
    "# list"
   ]
  },
  {
   "cell_type": "code",
   "execution_count": 5,
   "metadata": {},
   "outputs": [
    {
     "data": {
      "text/plain": [
       "{'Title': 'Notepad++',\n",
       " 'Link64': 'https://github.com/notepad-plus-plus/notepad-plus-plus/releases/download/v8.4/npp.8.4.Installer.x64.exe',\n",
       " 'Link': 'https://github.com/notepad-plus-plus/notepad-plus-plus/releases/download/v8.4/npp.8.4.Installer.exe',\n",
       " 'Tag': 'cNPP',\n",
       " 'Image': 'https://raw.githubusercontent.com/hellzerg/optimizer/master/images/feed/notepadpp.png',\n",
       " 'Group': 'Coding'}"
      ]
     },
     "execution_count": 5,
     "metadata": {},
     "output_type": "execute_result"
    }
   ],
   "source": [
    "data[0]\n"
   ]
  },
  {
   "cell_type": "markdown",
   "metadata": {},
   "source": [
    "## Load txt File"
   ]
  },
  {
   "cell_type": "markdown",
   "metadata": {},
   "source": [
    "## Process File and save"
   ]
  },
  {
   "cell_type": "code",
   "execution_count": 206,
   "metadata": {},
   "outputs": [],
   "source": [
    "pattern = r\"\\[.*?\\]\"\n",
    "list_dict = []\n",
    "#matches = re.findall(pattern, text)\n",
    "\n",
    "with open(\"list app.txt\", \"r\") as file:\n",
    "    file_content = file.read()\n",
    "    #print(file_content)\n",
    "    datas = file_content.split(\"\\n\")\n",
    "    datas = [data.strip() for data in datas if data.strip()]\n",
    "    \n",
    "    with open(\"list_app.txt\", \"w\") as file:\n",
    "        # Ghi từng dòng vào tệp văn bản\n",
    "        for line in datas:\n",
    "            file.write(line + \"\\n\")"
   ]
  },
  {
   "cell_type": "code",
   "execution_count": 294,
   "metadata": {},
   "outputs": [
    {
     "name": "stdout",
     "output_type": "stream",
     "text": [
      "Tool & Utilities\n",
      "Game Launcher\n",
      "Browser & Community\n",
      "Dev Tools\n"
     ]
    }
   ],
   "source": [
    "from urllib.parse import unquote\n",
    "\n",
    "def download_image(url, folder_path):\n",
    "    if not os.path.exists(folder_path):\n",
    "        os.makedirs(folder_path)\n",
    "\n",
    "    file_name = url.split('/')[-1]\n",
    "    #file_name = unquote(file_name)\n",
    "    #file_name = file_name.replace('%2', '')\n",
    "    file_path = os.path.join(folder_path, file_name)\n",
    "\n",
    "    response = requests.get(url)\n",
    "    if response.status_code == 200:\n",
    "        with open(file_path, 'wb') as f:\n",
    "            f.write(response.content)\n",
    "\n",
    "\n",
    "              \n",
    "group_name =  {\n",
    "    \"Tool & Utilities\" :  \"SystemTools\",\n",
    "    \"Game Launcher\" :  \"Coding\",\n",
    "    \"Browser & Community\" :  \"Internet\",\n",
    "    \"Dev Tools\" :  \"GraphicsSound\",\n",
    "}\n",
    "IMAGE_LINK_DEFAULT = \"https://raw.githubusercontent.com/hellzerg/optimizer/master/images/feed/7zip.png\"\n",
    "FOLDER = \"feed\"\n",
    "pattern = r\"\\[.*?\\]\"\n",
    "list_dict = []\n",
    "#matches = re.findall(pattern, text)\n",
    "i = 0\n",
    "with open(\"list_app.txt\", \"r\") as file:\n",
    "    file_content = file.read()\n",
    "    matches = re.findall(pattern, file_content)\n",
    "\n",
    "    data = file_content.split(\"\\n\")\n",
    "\n",
    "    for line in data:\n",
    "        dict= {}\n",
    "        if line in matches:\n",
    "            group = line.replace(\"[\", \"\").replace(\"]\", \"\")\n",
    "            print(group)\n",
    "        else:\n",
    "           \n",
    "            data1 = line.split(\";\")\n",
    "            \n",
    "            if len(data1) >=2:\n",
    "                dict[\"Title\"] = data1[0].replace(\" \",\" \")\n",
    "                \n",
    "            if len(data1) >=2:\n",
    "                dict[\"Link64\"] = data1[1].replace(\"\\n\", \"\").replace(\" \",\"\")\n",
    "            else:\n",
    "                dict[\"Link64\"] = \"\"\n",
    "\n",
    "            if len(data1) >=3:\n",
    "                dict[\"Link\"] = data1[2].replace(\"\\n\", \"\").replace(\" \",\"\")\n",
    "            else:\n",
    "                dict[\"Link\"] = \"\"\n",
    "\n",
    "            # get Tag \n",
    "            tag = data1[0].replace(\"-\",\"\").replace(\" \",\"\").replace(\".\",\"\")\n",
    "            tag = tag.lower()\n",
    "            dict[\"Tag\"] = \"c\"+ tag[0].upper() + tag[1:]\n",
    "\n",
    "            if len(data1) >=4:\n",
    "                dict[\"Image\"] = data1[3].replace(\"\\n\", \"\").replace(\" \",\"\")\n",
    "\n",
    "                # Download image base link\n",
    "                # download_image(dict[\"Image\"] , FOLDER)\n",
    "            else:\n",
    "                dict[\"Image\"] = IMAGE_LINK_DEFAULT \n",
    "\n",
    "            \n",
    "            dict[\"Group\"] = group_name[group]\n",
    "            list_dict.append(dict)\n",
    "\n",
    "            # if i == 20:\n",
    "            #     break\n",
    "\n",
    "            # i+=1\n",
    "           \n",
    "\n",
    "with open(\"feed1.json\", \"w\") as json_file:\n",
    "    json.dump(list_dict, json_file)"
   ]
  },
  {
   "cell_type": "code",
   "execution_count": 295,
   "metadata": {},
   "outputs": [
    {
     "name": "stdout",
     "output_type": "stream",
     "text": [
      "{'Title': '7-zip', 'Link64': 'https://drive.usercontent.google.com/download?id=1Yb8VNrCGJC0_l3msAcjtfyZAAkGiVWSM&export=download&authuser=0&confirm=t&uuid=c42e4bfa-ac67-4ab4-944d-d4487cc553c5&at=APZUnTX23IsJqj0vSRzCcuZMRXXR%3A1716700186255', 'Link': '', 'Tag': 'c7zip', 'Image': 'https://raw.githubusercontent.com/paimon3107/appImages/main/7zip.png', 'Group': 'SystemTools'}\n",
      "{'Title': 'Winrar', 'Link64': 'https://drive.usercontent.google.com/download?id=1UobEV2EBMaHEdik_bQsu2IZPYXmcdZKF&export=download&authuser=0&confirm=t&uuid=529178a1-9020-4ea2-9a72-914f7862cd18&at=APZUnTXVegpiW1Nb7ngmSvf6sozy%3A1716700257404', 'Link': '', 'Tag': 'cWinrar', 'Image': 'https://raw.githubusercontent.com/paimon3107/appImages/main/winrar.png', 'Group': 'SystemTools'}\n",
      "{'Title': 'Geforce Experience', 'Link64': 'https://us.download.nvidia.com/GFE/GFEClient/3.27.0.112/GeForce_Experience_v3.27.0.112.exe', 'Link': '', 'Tag': 'cGeforceexperience', 'Image': 'https://raw.githubusercontent.com/paimon3107/appImages/main/GeforceExperience.png', 'Group': 'SystemTools'}\n",
      "{'Title': 'NVCleanstall', 'Link64': 'https://drive.usercontent.google.com/download?id=16Tsvh2a_ZRIOYsnOvf94Z3ouZ2vcv3MM&export=download&authuser=0&confirm=t&uuid=5d54af0f-5227-4b7c-b57f-8ae8febb2c89&at=APZUnTXyeQREstMV6kjSgVWOy5hX%3A1716700288948', 'Link': '', 'Tag': 'cNvcleanstall', 'Image': 'https://raw.githubusercontent.com/paimon3107/appImages/main/nvcleanstall.png', 'Group': 'SystemTools'}\n",
      "{'Title': 'DDU', 'Link64': 'https://www.guru3d.com/getdownload/2c1b2414f56a6594ffef91236a87c0e976d52e0519bd313846bab016c2f20c7c4d6ce7dfe1991cc241d59b5c8cb07e5018b083a5902ac6c67fbe3b852ca022b0f73541638028a2d270eb576309b5208d7642bced763e8806fd9c5a9bca00d71e03e3f895d9924372aebbd01f8d3b8f4f22025884306c24b2230caaa33278d26e6030e42d33f8ae57a577520f01ba2e5ff243d0a889a561ab49c3ea2dd6c91d6ccaf1dfc1e0b09be33208add24e0c624c25ab', 'Link': '', 'Tag': 'cDdu', 'Image': 'https://raw.githubusercontent.com/paimon3107/appImages/main/ddu.png', 'Group': 'SystemTools'}\n",
      "{'Title': 'VMWare', 'Link64': 'https://drive.usercontent.google.com/download?id=1ureT0YiWkND8kPeCUnDzMTGwARyrblnf&export=download&authuser=0&confirm=t&uuid=7633c79d-fca4-4a02-8593-19cba922718b&at=APZUnTU9A2Z1jasXb-ABYJC88aqq%3A1716700327846', 'Link': '', 'Tag': 'cVmware', 'Image': 'https://raw.githubusercontent.com/paimon3107/appImages/main/Vmware_workstation.png', 'Group': 'SystemTools'}\n",
      "{'Title': 'VirtualBox', 'Link64': 'https://download.virtualbox.org/virtualbox/7.0.18/VirtualBox-7.0.18-162988-Win.exe', 'Link': '', 'Tag': 'cVirtualbox', 'Image': 'https://raw.githubusercontent.com/paimon3107/appImages/main/virtualbox.png', 'Group': 'SystemTools'}\n",
      "{'Title': 'MSI Afterburner', 'Link64': 'https://download.msi.com/uti_exe/vga/MSIAfterburnerSetup.zip?__token__=exp=1716811614~acl=/*~hmac=04a8a5cf9b925093af2ea0f5c4ecc9d74a4cff477b251a28c8e2fe2badfc56a8', 'Link': '', 'Tag': 'cMsiafterburner', 'Image': 'https://raw.githubusercontent.com/paimon3107/appImages/main/MSIAfterburner.png', 'Group': 'SystemTools'}\n",
      "{'Title': 'Process Lasso', 'Link64': 'https://dl.bitsum.com/files/processlassosetup64.exe', 'Link': '', 'Tag': 'cProcesslasso', 'Image': 'https://raw.githubusercontent.com/paimon3107/appImages/main/process-lasso.png', 'Group': 'SystemTools'}\n",
      "{'Title': 'Revo Uninstaller', 'Link64': 'https://download.revouninstaller.com/download/revosetup.exe', 'Link': '', 'Tag': 'cRevouninstaller', 'Image': 'https://raw.githubusercontent.com/paimon3107/appImages/main/revo.png', 'Group': 'SystemTools'}\n",
      "{'Title': 'Team Viewer', 'Link64': 'https://download.teamviewer.com/download/TeamViewer_Setup_x64.exe', 'Link': '', 'Tag': 'cTeamviewer', 'Image': 'https://raw.githubusercontent.com/paimon3107/appImages/main/teamviewer.png', 'Group': 'SystemTools'}\n",
      "{'Title': 'Ultra View', 'Link64': 'https://www.ultraviewer.net/vi/UltraViewer_setup_6.6_vi.exe', 'Link': '', 'Tag': 'cUltraview', 'Image': 'https://raw.githubusercontent.com/paimon3107/appImages/main/UltraViewer.png', 'Group': 'SystemTools'}\n",
      "{'Title': 'Anydesk', 'Link64': 'https://anydesk.com/en/downloads/thank-you?dv=win_exe', 'Link': '', 'Tag': 'cAnydesk', 'Image': 'https://raw.githubusercontent.com/paimon3107/appImages/main/anydesk.png', 'Group': 'SystemTools'}\n",
      "{'Title': 'CPU-Z', 'Link64': 'https://download.cpuid.com/cpu-z/cpu-z_2.09-en.exe', 'Link': '', 'Tag': 'cCpuz', 'Image': 'https://raw.githubusercontent.com/paimon3107/appImages/main/CPU-Z.png', 'Group': 'SystemTools'}\n",
      "{'Title': 'HWinfo', 'Link64': 'https://www.hwinfo.com/files/hwi64_802.exe', 'Link': '', 'Tag': 'cHwinfo', 'Image': 'https://raw.githubusercontent.com/paimon3107/appImages/main/HWinfo.png', 'Group': 'SystemTools'}\n",
      "{'Title': 'HWMonitor', 'Link64': 'https://download.cpuid.com/hwmonitor/hwmonitor_1.53.exe', 'Link': '', 'Tag': 'cHwmonitor', 'Image': 'https://raw.githubusercontent.com/paimon3107/appImages/main/hwmonitor.png', 'Group': 'SystemTools'}\n",
      "{'Title': 'Crystal Disk Info', 'Link64': 'https://v51.x8top.net/tmp082020/cf/soft/2023/1/thuy/4/crystaldiskinfo_81714.exe', 'Link': '', 'Tag': 'cCrystaldiskinfo', 'Image': 'https://raw.githubusercontent.com/paimon3107/appImages/main/CrystalDiskInfo.png', 'Group': 'SystemTools'}\n",
      "{'Title': 'K-Lite Codec Full', 'Link64': 'https://files2.codecguide.com/K-Lite_Codec_Pack_1830_Full.exe', 'Link': '', 'Tag': 'cKlitecodecfull', 'Image': 'https://raw.githubusercontent.com/paimon3107/appImages/main/klite.png', 'Group': 'SystemTools'}\n",
      "{'Title': 'Spotify', 'Link64': 'https://download.scdn.co/SpotifySetup.exe', 'Link': '', 'Tag': 'cSpotify', 'Image': 'https://raw.githubusercontent.com/paimon3107/appImages/main/spotify.png', 'Group': 'SystemTools'}\n",
      "{'Title': 'Google Drive', 'Link64': 'https://dl.google.com/drive-file-stream/GoogleDriveSetup.exe', 'Link': '', 'Tag': 'cGoogledrive', 'Image': 'https://raw.githubusercontent.com/paimon3107/appImages/main/Google%20Drive.png', 'Group': 'SystemTools'}\n",
      "{'Title': 'One Drive', 'Link64': 'https://go.microsoft.com/fwlink/p/?LinkID=2182910&clcid=0x42a&culture=vi-vn&country=vn', 'Link': '', 'Tag': 'cOnedrive', 'Image': 'https://raw.githubusercontent.com/paimon3107/appImages/main/One%20Drive.png', 'Group': 'SystemTools'}\n",
      "{'Title': 'Mega', 'Link64': 'https://mega.nz/MEGAsyncSetup64.exe', 'Link': '', 'Tag': 'cMega', 'Image': 'https://raw.githubusercontent.com/paimon3107/appImages/main/mega.png', 'Group': 'SystemTools'}\n",
      "{'Title': 'Visual C++ AIO', 'Link64': 'https://drive.usercontent.google.com/download?id=1g803BdTQtwx5OWp2udZQE_r_o-hM7K8N&export=download&authuser=0&confirm=t&uuid=ac52678a-e404-4260-a6b9-62cbb0ca8c9f&at=APZUnTXc8alhiHS6-SwEcdgnUyfX%3A1716700358628', 'Link': '', 'Tag': 'cVisualc++aio', 'Image': 'https://raw.githubusercontent.com/paimon3107/appImages/main/Visual%20C%2B%2B.png', 'Group': 'SystemTools'}\n",
      "{'Title': '.Net Desktop Runtime AIO', 'Link64': 'https://drive.usercontent.google.com/download?id=1WeZhkPdo0jErijIzxeHWf-GaqH0EZSuU&export=download&authuser=0&confirm=t&uuid=9d479676-a4b4-4193-ac04-de7b502e79a4&at=APZUnTWsDq3vlt5ylt4m8KFLOAnq%3A1716700389030', 'Link': '', 'Tag': 'cNetdesktopruntimeaio', 'Image': 'https://raw.githubusercontent.com/paimon3107/appImages/main/netfw.png', 'Group': 'SystemTools'}\n",
      "{'Title': 'DirectX', 'Link64': 'https://download.microsoft.com/download/1/7/1/1718CCC4-6315-4D8E-9543-8E28A4E18C4C/dxwebsetup.exe', 'Link': '', 'Tag': 'cDirectx', 'Image': 'https://raw.githubusercontent.com/paimon3107/appImages/main/directx.png', 'Group': 'SystemTools'}\n",
      "{'Title': 'Internet Download Manager (IDM)', 'Link64': 'https://mirror2.internetdownloadmanager.com/idman642build10.exe?v=lt&filename=idman642build10.exe', 'Link': '', 'Tag': 'cInternetdownloadmanager(idm)', 'Image': 'https://raw.githubusercontent.com/paimon3107/appImages/main/Internet%20Download%20Manager.png', 'Group': 'SystemTools'}\n",
      "{'Title': 'OBS', 'Link64': 'https://cdn-fastly.obsproject.com/downloads/OBS-Studio-30.1.2-Full-Installer-x64.exe', 'Link': '', 'Tag': 'cObs', 'Image': 'https://raw.githubusercontent.com/paimon3107/appImages/main/obs.png', 'Group': 'SystemTools'}\n",
      "{'Title': 'TreeSize Free', 'Link64': 'https://downloads.jam-software.de/treesize_free/TreeSizeFreeSetup.exe', 'Link': '', 'Tag': 'cTreesizefree', 'Image': 'https://raw.githubusercontent.com/paimon3107/appImages/main/TreeSize%20Free.png', 'Group': 'SystemTools'}\n",
      "{'Title': 'StartAllBack', 'Link64': 'https://www.startallback.com/download.php', 'Link': '', 'Tag': 'cStartallback', 'Image': 'https://raw.githubusercontent.com/paimon3107/appImages/main/StartAllBack.png', 'Group': 'SystemTools'}\n",
      "{'Title': 'Translucent Taskbar', 'Link64': 'https://github.com/TranslucentTB/TranslucentTB/releases/download/2024.1/bundle.msixbundle', 'Link': '', 'Tag': 'cTranslucenttaskbar', 'Image': 'https://raw.githubusercontent.com/paimon3107/appImages/main/Translucent%20Taskbar.png', 'Group': 'SystemTools'}\n",
      "{'Title': 'Rounded Taskbar', 'Link64': 'https://github.com/RoundedTB/RoundedTB/releases/download/R3.1/RoundedTB_R3.1.zip', 'Link': '', 'Tag': 'cRoundedtaskbar', 'Image': 'https://raw.githubusercontent.com/paimon3107/appImages/main/RoundedTaskbar.png', 'Group': 'SystemTools'}\n",
      "{'Title': 'RightClickWindows11', 'Link64': 'https://nilesoft.org/download/shell/1.9.15/setup.exe', 'Link': '', 'Tag': 'cRightclickwindows11', 'Image': 'https://raw.githubusercontent.com/paimon3107/appImages/main/RightClickWindows11.png', 'Group': 'SystemTools'}\n",
      "{'Title': 'Rufus', 'Link64': 'https://github.com/pbatard/rufus/releases/download/v4.5/rufus-4.5.exe', 'Link': '', 'Tag': 'cRufus', 'Image': 'https://raw.githubusercontent.com/paimon3107/appImages/main/rufus.png', 'Group': 'SystemTools'}\n",
      "{'Title': 'Ventoy', 'Link64': 'https://v90.x8top.net/tmp082020/cf/soft/2022/11/ba/3/ventoy_1082.zip', 'Link': '', 'Tag': 'cVentoy', 'Image': 'https://raw.githubusercontent.com/paimon3107/appImages/main/Ventoy.png', 'Group': 'SystemTools'}\n",
      "{'Title': 'Cloudflare WARP (1.1.1.1)', 'Link64': 'https://1111-releases.cloudflareclient.com/windows/Cloudflare_WARP_Release-x64.msi', 'Link': '', 'Tag': 'cCloudflarewarp(1111)', 'Image': 'https://raw.githubusercontent.com/paimon3107/appImages/main/Cloudflare%20WARP.png', 'Group': 'SystemTools'}\n",
      "{'Title': 'Steam', 'Link64': 'https://cdn.akamai.steamstatic.com/client/installer/SteamSetup.exe', 'Link': '', 'Tag': 'cSteam', 'Image': 'https://raw.githubusercontent.com/paimon3107/appImages/main/steam.png', 'Group': 'Coding'}\n",
      "{'Title': 'EA', 'Link64': 'https://origin-a.akamaihd.net/EA-Desktop-Client-Download/installer-releases/EAappInstaller.exe', 'Link': '', 'Tag': 'cEa', 'Image': 'https://raw.githubusercontent.com/paimon3107/appImages/main/EA.png', 'Group': 'Coding'}\n",
      "{'Title': 'Epic Launcher', 'Link64': 'https://launcher-public-service-prod06.ol.epicgames.com/launcher/api/installer/download/EpicGamesLauncherInstaller.msi', 'Link': '', 'Tag': 'cEpiclauncher', 'Image': 'https://raw.githubusercontent.com/paimon3107/appImages/main/epic.png', 'Group': 'Coding'}\n",
      "{'Title': 'Battle.net', 'Link64': 'https://downloader.battle.net/download/getInstallerForGame?os=win&gameProgram=BATTLENET_APP&version=Live&id=b544bcf7-d583-49d3-9ea4-f0446b45f0f5', 'Link': '', 'Tag': 'cBattlenet', 'Image': 'https://raw.githubusercontent.com/paimon3107/appImages/main/Battle.net.png', 'Group': 'Coding'}\n",
      "{'Title': 'Riot Client', 'Link64': 'https://drive.usercontent.google.com/download?id=1Hp3i_j2AsFjG03NNXocXz1gK5sCj4uSg&export=download&authuser=0&confirm=t&uuid=34181f94-b262-4be1-8411-19e030fa3aa5&at=APZUnTV5B71Io8vNao6gA2YN1ZEq%3A1716700437632', 'Link': '', 'Tag': 'cRiotclient', 'Image': 'https://raw.githubusercontent.com/paimon3107/appImages/main/Riot%20Client.png', 'Group': 'Coding'}\n",
      "{'Title': 'StarWard', 'Link64': 'https://github.com/Scighost/Starward/releases/download/0.11.5/Starward_Portable_0.11.5_x64.7z', 'Link': '', 'Tag': 'cStarward', 'Image': 'https://raw.githubusercontent.com/paimon3107/appImages/main/StarWard.png', 'Group': 'Coding'}\n",
      "{'Title': 'Geforce Now', 'Link64': 'https://download.nvidia.com/gfnpc/GeForceNOW-release.exe?_gl=1*17yejtk*_gcl_au*OTE1Mzc0MTAxLjE3MTY2NDkzNjQ.', 'Link': '', 'Tag': 'cGeforcenow', 'Image': 'https://raw.githubusercontent.com/paimon3107/appImages/main/Geforce%20Now.png', 'Group': 'Coding'}\n",
      "{'Title': 'Chrome', 'Link64': 'https://drive.usercontent.google.com/download?id=1FTTN_lA4vPa2BNGYtrLmqW2Y67G2iNNj&export=download&authuser=0&confirm=t&uuid=dcacef1a-8788-4040-ace0-e212d6ee973d&at=APZUnTX0bmMmW-PUK75qUxDsAq8z%3A1716700470524', 'Link': '', 'Tag': 'cChrome', 'Image': 'https://raw.githubusercontent.com/paimon3107/appImages/main/chrome.png', 'Group': 'Internet'}\n",
      "{'Title': 'Edge', 'Link64': 'https://drive.usercontent.google.com/download?id=1300_wG1rdUqx2eC5jvrJ0FFJfI6yltD3&export=download&authuser=0&confirm=t&uuid=d6c0cf28-eee0-4e1e-bee8-7494420a16b4&at=APZUnTWsZKB0k1DaQ3TMOk903W7v%3A1716700494313', 'Link': '', 'Tag': 'cEdge', 'Image': 'https://raw.githubusercontent.com/paimon3107/appImages/main/edge.png', 'Group': 'Internet'}\n",
      "{'Title': 'Brave', 'Link64': 'https://drive.usercontent.google.com/download?id=1SgOh509cnjOmTP-bdh8F-c6DvOnRC5vD&export=download&authuser=0&confirm=t&uuid=1bbc959a-3a8c-4d54-b3a2-853b0d0f519f&at=APZUnTU5KELEJTudJMsz9Dyz-xD4%3A1716700520501', 'Link': '', 'Tag': 'cBrave', 'Image': 'https://raw.githubusercontent.com/paimon3107/appImages/main/brave.png', 'Group': 'Internet'}\n",
      "{'Title': 'Opera GX', 'Link64': 'https://net.geo.opera.com/opera_gx/stable/windows?utm_tryagain=yes&utm_source=google&utm_medium=ose&utm_campaign=(none)&http_referrer=https%3A%2F%2Fwww.google.com%2F&utm_site=opera_com&&utm_lastpage=opera.com/gx', 'Link': '', 'Tag': 'cOperagx', 'Image': 'https://raw.githubusercontent.com/paimon3107/appImages/main/opera.png', 'Group': 'Internet'}\n",
      "{'Title': 'Tor', 'Link64': 'https://www.torproject.org/dist/torbrowser/13.0.15/tor-browser-windows-x86_64-portable-13.0.15.exe', 'Link': '', 'Tag': 'cTor', 'Image': 'https://raw.githubusercontent.com/paimon3107/appImages/main/tor.png', 'Group': 'Internet'}\n",
      "{'Title': 'Discord', 'Link64': 'https://discord.com/api/downloads/distributions/app/installers/latest?channel=stable&platform=win&arch=x64', 'Link': '', 'Tag': 'cDiscord', 'Image': 'https://raw.githubusercontent.com/paimon3107/appImages/main/discord.png', 'Group': 'Internet'}\n",
      "{'Title': 'Zalo', 'Link64': 'https://zalo.me/download/zalo-pc?utm=90000', 'Link': '', 'Tag': 'cZalo', 'Image': 'https://raw.githubusercontent.com/paimon3107/appImages/main/Zalo.png', 'Group': 'Internet'}\n",
      "{'Title': 'Telegram', 'Link64': 'https://telegram.org/dl/desktop/win64', 'Link': '', 'Tag': 'cTelegram', 'Image': 'https://raw.githubusercontent.com/paimon3107/appImages/main/telegram.png', 'Group': 'Internet'}\n",
      "{'Title': 'Zoom', 'Link64': 'https://zoom.us/client/6.0.11.39959/ZoomInstallerFull.exe?archType=x64', 'Link': '', 'Tag': 'cZoom', 'Image': 'https://raw.githubusercontent.com/paimon3107/appImages/main/zoom.png', 'Group': 'Internet'}\n",
      "{'Title': 'Teams', 'Link64': 'https://statics.teams.cdn.office.net/production-windows-x64/1.6.00.16472/Teams_windows_x64.exe', 'Link': '', 'Tag': 'cTeams', 'Image': 'https://raw.githubusercontent.com/paimon3107/appImages/main/teams.png', 'Group': 'Internet'}\n",
      "{'Title': 'Putty', 'Link64': 'https://the.earth.li/~sgtatham/putty/latest/w64/putty-64bit-0.81-installer.msi', 'Link': '', 'Tag': 'cPutty', 'Image': 'https://raw.githubusercontent.com/paimon3107/appImages/main/putty.png', 'Group': 'GraphicsSound'}\n",
      "{'Title': 'IP Scanner', 'Link64': 'https://download.radmin.com/download/files/Radmin_3.5.2.1_ML.zip', 'Link': '', 'Tag': 'cIpscanner', 'Image': 'https://raw.githubusercontent.com/paimon3107/appImages/main/IP%20Scanner.png', 'Group': 'GraphicsSound'}\n",
      "{'Title': 'Nmap', 'Link64': 'https://nmap.org/dist/nmap-7.95-setup.exe', 'Link': '', 'Tag': 'cNmap', 'Image': 'https://raw.githubusercontent.com/paimon3107/appImages/main/nmap.png', 'Group': 'GraphicsSound'}\n",
      "{'Title': 'Wireshark', 'Link64': 'https://2.na.dl.wireshark.org/win64/Wireshark-4.2.5-x64.exe', 'Link': '', 'Tag': 'cWireshark', 'Image': 'https://raw.githubusercontent.com/paimon3107/appImages/main/wireshark.png', 'Group': 'GraphicsSound'}\n",
      "{'Title': 'VSCode', 'Link64': 'https://code.visualstudio.com/sha/download?build=stable&os=win32-x64-user', 'Link': '', 'Tag': 'cVscode', 'Image': 'https://raw.githubusercontent.com/paimon3107/appImages/main/vscode.png', 'Group': 'GraphicsSound'}\n",
      "{'Title': 'VS Studio', 'Link64': 'https://visualstudio.microsoft.com/thank-you-downloading-visual-studio/?sku=Enterprise&channel=Release&version=VS2022&source=VSLandingPage&cid=2030&passive=false', 'Link': '', 'Tag': 'cVsstudio', 'Image': 'https://raw.githubusercontent.com/paimon3107/appImages/main/visualstudio.png', 'Group': 'GraphicsSound'}\n",
      "{'Title': 'Anaconda', 'Link64': 'https://repo.anaconda.com/archive/Anaconda3-2024.02-1-Windows-x86_64.exe', 'Link': '', 'Tag': 'cAnaconda', 'Image': 'https://raw.githubusercontent.com/paimon3107/appImages/main/Anaconda.png', 'Group': 'GraphicsSound'}\n",
      "{'Title': 'GitHub', 'Link64': 'https://central.github.com/deployments/desktop/desktop/latest/win32', 'Link': '', 'Tag': 'cGithub', 'Image': 'https://raw.githubusercontent.com/paimon3107/appImages/main/github.png', 'Group': 'GraphicsSound'}\n",
      "{'Title': 'WinSCP', 'Link64': 'https://winscp.net/download/WinSCP-6.3.3-Setup.exe/download', 'Link': '', 'Tag': 'cWinscp', 'Image': 'https://raw.githubusercontent.com/paimon3107/appImages/main/winscp.png', 'Group': 'GraphicsSound'}\n",
      "{'Title': 'Sublime Text', 'Link64': 'https://www.sublimetext.com/download_thanks?target=win-x64', 'Link': '', 'Tag': 'cSublimetext', 'Image': 'https://raw.githubusercontent.com/paimon3107/appImages/main/sublimetext.png', 'Group': 'GraphicsSound'}\n",
      "{'Title': 'NodeJS', 'Link64': 'https://nodejs.org/dist/v20.13.1/node-v20.13.1-x64.msi', 'Link': '', 'Tag': 'cNodejs', 'Image': 'https://raw.githubusercontent.com/paimon3107/appImages/main/nodejs.png', 'Group': 'GraphicsSound'}\n",
      "{'Title': 'Docker Desktop', 'Link64': 'https://desktop.docker.com/win/main/amd64/Docker%20Desktop%20Installer.exe?utm_source=docker&utm_medium=webreferral&utm_campaign=dd-smartbutton&utm_location=module&_gl=1*8wqtao*_ga*MTYwNDI1MDY0Ni4xNzE2NjU1MDI1*_ga_XJWPQMJYHQ*MTcxNjY1NTAyNS4xLjEuMTcxNjY1NTAyNi41OS4wLjA.', 'Link': '', 'Tag': 'cDockerdesktop', 'Image': 'https://raw.githubusercontent.com/paimon3107/appImages/main/Docker%20Desktop.png', 'Group': 'GraphicsSound'}\n",
      "{'Title': 'Git', 'Link64': 'https://github.com/git-for-windows/git/releases/download/v2.45.1.windows.1/Git-2.45.1-64-bit.exe', 'Link': '', 'Tag': 'cGit', 'Image': 'https://raw.githubusercontent.com/paimon3107/appImages/main/Git.png', 'Group': 'GraphicsSound'}\n",
      "{'Title': 'Python3', 'Link64': 'https://www.python.org/ftp/python/3.10.0/python-3.10.0-amd64.exe', 'Link': '', 'Tag': 'cPython3', 'Image': 'https://raw.githubusercontent.com/paimon3107/appImages/main/python.png', 'Group': 'GraphicsSound'}\n",
      "{'Title': 'Xemu', 'Link64': 'https://github.com/xemu-project/xemu/releases/latest/download/xemu-win-release.zip', 'Link': '', 'Tag': 'cXemu', 'Image': 'https://raw.githubusercontent.com/paimon3107/appImages/main/xemu.png', 'Group': 'GraphicsSound'}\n"
     ]
    }
   ],
   "source": [
    "for i in list_dict:\n",
    "    print(i)"
   ]
  },
  {
   "cell_type": "markdown",
   "metadata": {},
   "source": [
    "## Export to JSON\n"
   ]
  }
 ],
 "metadata": {
  "kernelspec": {
   "display_name": "Python 3",
   "language": "python",
   "name": "python3"
  },
  "language_info": {
   "codemirror_mode": {
    "name": "ipython",
    "version": 3
   },
   "file_extension": ".py",
   "mimetype": "text/x-python",
   "name": "python",
   "nbconvert_exporter": "python",
   "pygments_lexer": "ipython3",
   "version": "3.10.0"
  }
 },
 "nbformat": 4,
 "nbformat_minor": 2
}
